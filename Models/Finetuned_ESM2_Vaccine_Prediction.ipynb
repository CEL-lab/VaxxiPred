{
 "cells": [
  {
   "cell_type": "markdown",
   "id": "f602c550-5173-4f4d-b5a4-a2a710ea5cc0",
   "metadata": {},
   "source": [
    "# Import Data"
   ]
  },
  {
   "cell_type": "code",
   "execution_count": 1,
   "id": "9528dcb0-e7dc-4069-9d93-7919e4c85a2c",
   "metadata": {},
   "outputs": [],
   "source": [
    "import pandas as pd"
   ]
  },
  {
   "cell_type": "code",
   "execution_count": 2,
   "id": "0e58958d-6d4d-4c5b-b993-95271d97f9b4",
   "metadata": {},
   "outputs": [
    {
     "data": {
      "text/html": [
       "<div>\n",
       "<style scoped>\n",
       "    .dataframe tbody tr th:only-of-type {\n",
       "        vertical-align: middle;\n",
       "    }\n",
       "\n",
       "    .dataframe tbody tr th {\n",
       "        vertical-align: top;\n",
       "    }\n",
       "\n",
       "    .dataframe thead th {\n",
       "        text-align: right;\n",
       "    }\n",
       "</style>\n",
       "<table border=\"1\" class=\"dataframe\">\n",
       "  <thead>\n",
       "    <tr style=\"text-align: right;\">\n",
       "      <th></th>\n",
       "      <th>Protien Number</th>\n",
       "      <th>Sequence</th>\n",
       "      <th>Vaccine Candidate</th>\n",
       "    </tr>\n",
       "  </thead>\n",
       "  <tbody>\n",
       "    <tr>\n",
       "      <th>0</th>\n",
       "      <td>A0A081UPN5</td>\n",
       "      <td>MSETKTNLLDLDRDAMRAFFVELGEKPFRADQVMKWIYHFGCDDFD...</td>\n",
       "      <td>0</td>\n",
       "    </tr>\n",
       "    <tr>\n",
       "      <th>1</th>\n",
       "      <td>A0A081UQL1</td>\n",
       "      <td>MTKQIKRIGVLTSGGDAPGMNAAIRAVVRAGLHHGLEVYGIYDGYL...</td>\n",
       "      <td>0</td>\n",
       "    </tr>\n",
       "    <tr>\n",
       "      <th>2</th>\n",
       "      <td>A0A0F6KC92</td>\n",
       "      <td>MKKVGLVGWRGMVGSVLMSRMQEEKDFSRIQPTFFTTSQAGEAAPN...</td>\n",
       "      <td>0</td>\n",
       "    </tr>\n",
       "    <tr>\n",
       "      <th>3</th>\n",
       "      <td>A0A0S3BF99</td>\n",
       "      <td>MPKKFYVSWDNLQREARRLARRQLPVSQWKGIIAVSRGGLVPAALM...</td>\n",
       "      <td>0</td>\n",
       "    </tr>\n",
       "    <tr>\n",
       "      <th>4</th>\n",
       "      <td>A0A0T6R2D4</td>\n",
       "      <td>MKKVGLVGWRGMVGSVLMSRMQEEQDFAHIQPTFFTTSQAGEAAPN...</td>\n",
       "      <td>0</td>\n",
       "    </tr>\n",
       "    <tr>\n",
       "      <th>...</th>\n",
       "      <td>...</td>\n",
       "      <td>...</td>\n",
       "      <td>...</td>\n",
       "    </tr>\n",
       "    <tr>\n",
       "      <th>521</th>\n",
       "      <td>AJE37222.1</td>\n",
       "      <td>MRDTTQVRAMDDYFHSLLLDDALLLDSSDEPDSAPVIQLQRQPQPV...</td>\n",
       "      <td>1</td>\n",
       "    </tr>\n",
       "    <tr>\n",
       "      <th>522</th>\n",
       "      <td>AJE37560.1</td>\n",
       "      <td>MEKVIFKRAALSAAIVAAMLAPGMVLAADEAGPTYAAAASKFYEEG...</td>\n",
       "      <td>1</td>\n",
       "    </tr>\n",
       "    <tr>\n",
       "      <th>523</th>\n",
       "      <td>AJE37735.1</td>\n",
       "      <td>MRNLTLLSLGLLAANAAHADLGEIPKQSGWSGFLLGGVNAVSYKSN...</td>\n",
       "      <td>1</td>\n",
       "    </tr>\n",
       "    <tr>\n",
       "      <th>524</th>\n",
       "      <td>AJE37742.1</td>\n",
       "      <td>MFKANGKGNAVRLVLSVATVAVLAACSSPQERKMANRGFEYEDARL...</td>\n",
       "      <td>1</td>\n",
       "    </tr>\n",
       "    <tr>\n",
       "      <th>525</th>\n",
       "      <td>AJE38071.1</td>\n",
       "      <td>MLKRITLIALLATTTATTLSGCANSDVYSGDVYTKDRAKQVQTVSY...</td>\n",
       "      <td>1</td>\n",
       "    </tr>\n",
       "  </tbody>\n",
       "</table>\n",
       "<p>526 rows × 3 columns</p>\n",
       "</div>"
      ],
      "text/plain": [
       "    Protien Number                                           Sequence  \\\n",
       "0       A0A081UPN5  MSETKTNLLDLDRDAMRAFFVELGEKPFRADQVMKWIYHFGCDDFD...   \n",
       "1       A0A081UQL1  MTKQIKRIGVLTSGGDAPGMNAAIRAVVRAGLHHGLEVYGIYDGYL...   \n",
       "2       A0A0F6KC92  MKKVGLVGWRGMVGSVLMSRMQEEKDFSRIQPTFFTTSQAGEAAPN...   \n",
       "3       A0A0S3BF99  MPKKFYVSWDNLQREARRLARRQLPVSQWKGIIAVSRGGLVPAALM...   \n",
       "4       A0A0T6R2D4  MKKVGLVGWRGMVGSVLMSRMQEEQDFAHIQPTFFTTSQAGEAAPN...   \n",
       "..             ...                                                ...   \n",
       "521     AJE37222.1  MRDTTQVRAMDDYFHSLLLDDALLLDSSDEPDSAPVIQLQRQPQPV...   \n",
       "522     AJE37560.1  MEKVIFKRAALSAAIVAAMLAPGMVLAADEAGPTYAAAASKFYEEG...   \n",
       "523     AJE37735.1  MRNLTLLSLGLLAANAAHADLGEIPKQSGWSGFLLGGVNAVSYKSN...   \n",
       "524     AJE37742.1  MFKANGKGNAVRLVLSVATVAVLAACSSPQERKMANRGFEYEDARL...   \n",
       "525     AJE38071.1  MLKRITLIALLATTTATTLSGCANSDVYSGDVYTKDRAKQVQTVSY...   \n",
       "\n",
       "     Vaccine Candidate  \n",
       "0                    0  \n",
       "1                    0  \n",
       "2                    0  \n",
       "3                    0  \n",
       "4                    0  \n",
       "..                 ...  \n",
       "521                  1  \n",
       "522                  1  \n",
       "523                  1  \n",
       "524                  1  \n",
       "525                  1  \n",
       "\n",
       "[526 rows x 3 columns]"
      ]
     },
     "execution_count": 2,
     "metadata": {},
     "output_type": "execute_result"
    }
   ],
   "source": [
    "df_sequence = pd.read_csv('df_final_sequence.csv')\n",
    "df_sequence"
   ]
  },
  {
   "cell_type": "markdown",
   "id": "b280cf67-1162-407c-bd42-9c4afe5e2d60",
   "metadata": {},
   "source": [
    "# Clean Sequence"
   ]
  },
  {
   "cell_type": "code",
   "execution_count": 3,
   "id": "546d526b-0ded-48df-8c4c-908793964c61",
   "metadata": {},
   "outputs": [],
   "source": [
    "import re\n",
    "\n",
    "# Function to clean sequence by keeping only valid amino acid letters\n",
    "def clean_sequence(sequence):\n",
    "    return re.sub(r'[^ACDEFGHIKLMNPQRSTVWY]', '', sequence)\n",
    "\n",
    "# Apply the cleaning function to the 'Sequence' column in df_sequence\n",
    "df_sequence['Sequence'] = df_sequence['Sequence'].apply(clean_sequence)"
   ]
  },
  {
   "cell_type": "code",
   "execution_count": 18,
   "id": "8cb47462-fe62-4629-84ab-e5a2ae3e7de2",
   "metadata": {},
   "outputs": [],
   "source": [
    "from datasets import Dataset, DatasetDict"
   ]
  },
  {
   "cell_type": "code",
   "execution_count": 36,
   "id": "1f610c52-8899-4280-b844-f60e5e13357c",
   "metadata": {},
   "outputs": [],
   "source": [
    "# Ensure binary labels (0 or 1) for classification\n",
    "df_sequence['labels'] = df_sequence['Vaccine Candidate'].astype(int)\n",
    "\n",
    "# Split into train, validation, and test sets (80%, 10%, 10%)\n",
    "train_df, temp_df = train_test_split(\n",
    "    df_sequence,\n",
    "    test_size=0.2,\n",
    "    stratify=df_sequence['labels'],\n",
    "    random_state=42\n",
    ")\n",
    "\n",
    "val_df, test_df = train_test_split(\n",
    "    temp_df,\n",
    "    test_size=0.5,\n",
    "    stratify=temp_df['labels'],\n",
    "    random_state=42\n",
    ")\n",
    "\n",
    "# Convert to Hugging Face DatasetDict format\n",
    "train_dataset = Dataset.from_pandas(train_df)\n",
    "val_dataset = Dataset.from_pandas(val_df)\n",
    "test_dataset = Dataset.from_pandas(test_df)\n",
    "\n",
    "dataset_dict = DatasetDict({\n",
    "    'train': train_dataset,\n",
    "    'validation': val_dataset,\n",
    "    'test': test_dataset\n",
    "})"
   ]
  },
  {
   "cell_type": "markdown",
   "id": "8ba018e2-87a7-4bfe-af4d-a9a61b55b92d",
   "metadata": {},
   "source": [
    "# Load Tokenizer and Tokenize Data"
   ]
  },
  {
   "cell_type": "code",
   "execution_count": 37,
   "id": "2959d9af-e8ae-4769-acc1-75138fc9d7c2",
   "metadata": {},
   "outputs": [
    {
     "data": {
      "application/vnd.jupyter.widget-view+json": {
       "model_id": "0ed21946646c4236b88272c72ff81f23",
       "version_major": 2,
       "version_minor": 0
      },
      "text/plain": [
       "Map (num_proc=128):   0%|          | 0/420 [00:00<?, ? examples/s]"
      ]
     },
     "metadata": {},
     "output_type": "display_data"
    },
    {
     "name": "stderr",
     "output_type": "stream",
     "text": [
      "num_proc must be <= 53. Reducing num_proc to 53 for dataset of size 53.\n"
     ]
    },
    {
     "data": {
      "application/vnd.jupyter.widget-view+json": {
       "model_id": "870f367dd86f4147b8ba7602e6535f5e",
       "version_major": 2,
       "version_minor": 0
      },
      "text/plain": [
       "Map (num_proc=53):   0%|          | 0/53 [00:00<?, ? examples/s]"
      ]
     },
     "metadata": {},
     "output_type": "display_data"
    },
    {
     "name": "stderr",
     "output_type": "stream",
     "text": [
      "num_proc must be <= 53. Reducing num_proc to 53 for dataset of size 53.\n"
     ]
    },
    {
     "data": {
      "application/vnd.jupyter.widget-view+json": {
       "model_id": "3719c0cc56af4437823f333c708cd4a0",
       "version_major": 2,
       "version_minor": 0
      },
      "text/plain": [
       "Map (num_proc=53):   0%|          | 0/53 [00:00<?, ? examples/s]"
      ]
     },
     "metadata": {},
     "output_type": "display_data"
    }
   ],
   "source": [
    "from transformers import AutoTokenizer\n",
    "import os\n",
    "\n",
    "# Set the model checkpoint for ESM-2 model\n",
    "model_checkpoint = \"facebook/esm2_t6_8M_UR50D\"\n",
    "tokenizer = AutoTokenizer.from_pretrained(model_checkpoint)\n",
    "\n",
    "# Define tokenization function\n",
    "def tokenize(examples, max_length=1023):\n",
    "    text = examples[\"Sequence\"]\n",
    "    encoding = tokenizer(text, truncation=True, max_length=max_length)\n",
    "    encoding[\"labels\"] = examples[\"labels\"]\n",
    "    return encoding\n",
    "\n",
    "# Tokenize the dataset\n",
    "encoded_dataset = dataset_dict.map(\n",
    "    tokenize,\n",
    "    batched=True,\n",
    "    num_proc=os.cpu_count(),\n",
    "    remove_columns=dataset_dict[\"train\"].column_names\n",
    ")\n",
    "encoded_dataset.set_format(\"torch\")"
   ]
  },
  {
   "cell_type": "markdown",
   "id": "145cbfc8-1288-4fdb-b596-cc62c1718c92",
   "metadata": {},
   "source": [
    "# Load and Configure Model for LoRA Fine-Tuning"
   ]
  },
  {
   "cell_type": "code",
   "execution_count": 38,
   "id": "a07e81a2-db71-4840-989a-6e7c7b54143b",
   "metadata": {},
   "outputs": [
    {
     "name": "stderr",
     "output_type": "stream",
     "text": [
      "Some weights of EsmForSequenceClassification were not initialized from the model checkpoint at facebook/esm2_t6_8M_UR50D and are newly initialized: ['classifier.dense.bias', 'classifier.dense.weight', 'classifier.out_proj.bias', 'classifier.out_proj.weight']\n",
      "You should probably TRAIN this model on a down-stream task to be able to use it for predictions and inference.\n"
     ]
    },
    {
     "name": "stdout",
     "output_type": "stream",
     "text": [
      "Trainable params: 195522 || All params: 8036285 || Trainable%: 2.43\n"
     ]
    }
   ],
   "source": [
    "from transformers import EsmForSequenceClassification\n",
    "from peft import get_peft_model, LoraConfig\n",
    "\n",
    "# Load the ESM model for sequence classification\n",
    "model = EsmForSequenceClassification.from_pretrained(\n",
    "    model_checkpoint,\n",
    "    num_labels=2  # Binary classification\n",
    ")\n",
    "\n",
    "# Configure LoRA for fine-tuning\n",
    "peft_config = LoraConfig(\n",
    "    task_type=\"SEQ_CLS\",\n",
    "    inference_mode=False,\n",
    "    bias=\"none\",\n",
    "    r=8,\n",
    "    lora_alpha=16,\n",
    "    lora_dropout=0.2,\n",
    "    target_modules=[\"query\", \"key\", \"value\"],\n",
    "    modules_to_save=['classifier']\n",
    ")\n",
    "\n",
    "model = get_peft_model(model, peft_config)\n",
    "\n",
    "# Show trainable parameters\n",
    "def print_trainable_parameters(model):\n",
    "    trainable_params = sum(p.numel() for p in model.parameters() if p.requires_grad)\n",
    "    all_params = sum(p.numel() for p in model.parameters())\n",
    "    print(f\"Trainable params: {trainable_params} || All params: {all_params} || Trainable%: {100 * trainable_params / all_params:.2f}\")\n",
    "\n",
    "print_trainable_parameters(model)\n"
   ]
  },
  {
   "cell_type": "markdown",
   "id": "1e862869-8016-49c4-9207-f1e4941899a6",
   "metadata": {},
   "source": [
    "# Configure Training Arguments"
   ]
  },
  {
   "cell_type": "code",
   "execution_count": 39,
   "id": "9bad95c3-65e6-48d2-b5cd-414689429814",
   "metadata": {},
   "outputs": [
    {
     "name": "stderr",
     "output_type": "stream",
     "text": [
      "/mmfs1/home/mmishkatur.rahman/.local/lib/python3.12/site-packages/transformers/training_args.py:1545: FutureWarning: `evaluation_strategy` is deprecated and will be removed in version 4.46 of 🤗 Transformers. Use `eval_strategy` instead\n",
      "  warnings.warn(\n"
     ]
    }
   ],
   "source": [
    "from transformers import TrainingArguments, EarlyStoppingCallback\n",
    "\n",
    "# Set training arguments\n",
    "args = TrainingArguments(\n",
    "    seed=42,\n",
    "    fp16=True,\n",
    "    output_dir='./results',\n",
    "    evaluation_strategy=\"steps\",\n",
    "    num_train_epochs=10,\n",
    "    learning_rate=1e-3,\n",
    "    per_device_train_batch_size=16,\n",
    "    per_device_eval_batch_size=64,\n",
    "    gradient_accumulation_steps=4,\n",
    "    logging_steps=50,\n",
    "    eval_steps=50,\n",
    "    weight_decay=0.1,\n",
    "    warmup_ratio=0.1,\n",
    "    lr_scheduler_type='cosine',\n",
    "    metric_for_best_model=\"auc_roc\",\n",
    "    load_best_model_at_end=True,\n",
    "    report_to='none'  # Disable Weights & Biases logging\n",
    ")\n",
    "\n",
    "# Early stopping callback\n",
    "early_stopping_callback = EarlyStoppingCallback(\n",
    "    early_stopping_patience=3,\n",
    "    early_stopping_threshold=0.01\n",
    ")\n"
   ]
  },
  {
   "cell_type": "markdown",
   "id": "748c00f0-25d0-46b2-b299-9b3efc0bd325",
   "metadata": {},
   "source": [
    "# Define Evaluation Metrics"
   ]
  },
  {
   "cell_type": "code",
   "execution_count": 40,
   "id": "16914d12-0a94-466f-8c1e-c59615d76844",
   "metadata": {},
   "outputs": [],
   "source": [
    "from sklearn.metrics import (\n",
    "    accuracy_score, precision_score, recall_score, roc_auc_score, average_precision_score\n",
    ")\n",
    "import numpy as np\n",
    "import torch\n",
    "\n",
    "def compute_metrics(eval_pred):\n",
    "    logits, labels = eval_pred\n",
    "    probabilities = torch.nn.Softmax(dim=1)(torch.tensor(logits)).numpy()\n",
    "    predictions = np.argmax(probabilities, axis=1)\n",
    "    probabilities_pos_class = probabilities[:, 1]\n",
    "\n",
    "    accuracy = accuracy_score(labels, predictions)\n",
    "    precision = precision_score(labels, predictions, zero_division=0)\n",
    "    recall = recall_score(labels, predictions, zero_division=0)\n",
    "    auc = roc_auc_score(labels, probabilities_pos_class)\n",
    "    auc_pr = average_precision_score(labels, probabilities_pos_class)\n",
    "\n",
    "    return {\n",
    "        \"accuracy\": accuracy,\n",
    "        \"precision\": precision,\n",
    "        \"recall\": recall,\n",
    "        \"auc_roc\": auc,\n",
    "        \"auc_pr\": auc_pr\n",
    "    }\n"
   ]
  },
  {
   "cell_type": "markdown",
   "id": "5c2c4d33-7d9d-40d4-a79c-ccb144b1f9b7",
   "metadata": {},
   "source": [
    "# Initialize Trainer and Train Model"
   ]
  },
  {
   "cell_type": "code",
   "execution_count": 41,
   "id": "e8d32cb1-deeb-45fe-b0ab-5b172ae94d59",
   "metadata": {},
   "outputs": [
    {
     "data": {
      "text/html": [
       "\n",
       "    <div>\n",
       "      \n",
       "      <progress value='60' max='60' style='width:300px; height:20px; vertical-align: middle;'></progress>\n",
       "      [60/60 01:10, Epoch 8/10]\n",
       "    </div>\n",
       "    <table border=\"1\" class=\"dataframe\">\n",
       "  <thead>\n",
       " <tr style=\"text-align: left;\">\n",
       "      <th>Step</th>\n",
       "      <th>Training Loss</th>\n",
       "      <th>Validation Loss</th>\n",
       "      <th>Accuracy</th>\n",
       "      <th>Precision</th>\n",
       "      <th>Recall</th>\n",
       "      <th>Auc Roc</th>\n",
       "      <th>Auc Pr</th>\n",
       "    </tr>\n",
       "  </thead>\n",
       "  <tbody>\n",
       "    <tr>\n",
       "      <td>50</td>\n",
       "      <td>0.340500</td>\n",
       "      <td>0.124017</td>\n",
       "      <td>0.981132</td>\n",
       "      <td>1.000000</td>\n",
       "      <td>0.900000</td>\n",
       "      <td>0.974419</td>\n",
       "      <td>0.947619</td>\n",
       "    </tr>\n",
       "  </tbody>\n",
       "</table><p>"
      ],
      "text/plain": [
       "<IPython.core.display.HTML object>"
      ]
     },
     "metadata": {},
     "output_type": "display_data"
    },
    {
     "data": {
      "text/plain": [
       "TrainOutput(global_step=60, training_loss=0.3201639294624329, metrics={'train_runtime': 72.4524, 'train_samples_per_second': 57.969, 'train_steps_per_second': 0.828, 'total_flos': 154786747669560.0, 'train_loss': 0.3201639294624329, 'epoch': 8.88888888888889})"
      ]
     },
     "execution_count": 41,
     "metadata": {},
     "output_type": "execute_result"
    }
   ],
   "source": [
    "from transformers import Trainer\n",
    "\n",
    "trainer = Trainer(\n",
    "    model=model,\n",
    "    args=args,\n",
    "    train_dataset=encoded_dataset['train'],\n",
    "    eval_dataset=encoded_dataset['validation'],\n",
    "    tokenizer=tokenizer,\n",
    "    compute_metrics=compute_metrics,\n",
    "    callbacks=[early_stopping_callback]\n",
    ")\n",
    "\n",
    "# Train the model\n",
    "trainer.train()\n"
   ]
  },
  {
   "cell_type": "markdown",
   "id": "20583088-91a8-4184-8a6a-4351cb7880af",
   "metadata": {},
   "source": [
    "# Evaluate Model and Display Metrics"
   ]
  },
  {
   "cell_type": "code",
   "execution_count": 42,
   "id": "707f21bb-4436-4f1b-af22-052c85aaa02d",
   "metadata": {},
   "outputs": [
    {
     "data": {
      "text/html": [],
      "text/plain": [
       "<IPython.core.display.HTML object>"
      ]
     },
     "metadata": {},
     "output_type": "display_data"
    },
    {
     "name": "stdout",
     "output_type": "stream",
     "text": [
      "Accuracy: 0.9622641509433962\n",
      "Precision: 1.0\n",
      "Recall: 0.7777777777777778\n",
      "F1-score: 0.8750000000000001\n",
      "ROC-AUC score: 0.9621212121212122\n",
      "Log Loss: 0.15691764652729034\n"
     ]
    },
    {
     "data": {
      "image/png": "[encoded data removed]",
      "text/plain": [
       "<Figure size 800x600 with 2 Axes>"
      ]
     },
     "metadata": {},
     "output_type": "display_data"
    }
   ],
   "source": [
    "# Evaluate the model on validation set\n",
    "eval_results = trainer.evaluate(encoded_dataset['test'])\n",
    "\n",
    "# Print metrics\n",
    "print(f\"Accuracy: {eval_results['eval_accuracy']}\")\n",
    "print(f\"Precision: {eval_results['eval_precision']}\")\n",
    "print(f\"Recall: {eval_results['eval_recall']}\")\n",
    "print(f\"F1-score: {(2 * eval_results['eval_precision'] * eval_results['eval_recall']) / (eval_results['eval_precision'] + eval_results['eval_recall'])}\")\n",
    "print(f\"ROC-AUC score: {eval_results['eval_auc_roc']}\")\n",
    "print(f\"Log Loss: {eval_results['eval_loss']}\")\n",
    "\n",
    "# Plot Confusion Matrix\n",
    "import matplotlib.pyplot as plt\n",
    "import seaborn as sns\n",
    "from sklearn.metrics import confusion_matrix\n",
    "\n",
    "# Get predictions and labels\n",
    "preds = trainer.predict(encoded_dataset['test'])\n",
    "y_pred = np.argmax(preds.predictions, axis=1)\n",
    "y_true = preds.label_ids\n",
    "\n",
    "# Confusion matrix\n",
    "conf_matrix = confusion_matrix(y_true, y_pred)\n",
    "\n",
    "plt.figure(figsize=(8, 6))\n",
    "sns.heatmap(conf_matrix, annot=True, fmt='d', cmap='Blues')\n",
    "plt.xlabel(\"Predicted Label\")\n",
    "plt.ylabel(\"True Label\")\n",
    "plt.title(\"Confusion Matrix\")\n",
    "plt.show()\n"
   ]
  },
  {
   "cell_type": "code",
   "execution_count": 43,
   "id": "682d7681-b6a5-454b-a990-997a95a8b886",
   "metadata": {},
   "outputs": [
    {
     "name": "stdout",
     "output_type": "stream",
     "text": [
      "\n",
      "All sequences from the validation set with actual and predicted labels:\n",
      "Sequence: M L Q D I F L K N I L S I Q E N V Y K Y N P V K L ...\n",
      "Actual: 0, Predicted: 0\n",
      "\n",
      "Sequence: M S F K L L A I R P L D G C N E K F L K N L E E N ...\n",
      "Actual: 0, Predicted: 0\n",
      "\n",
      "Sequence: M R M K H L I A A A L T A L T L S G C S L V Y R I ...\n",
      "Actual: 1, Predicted: 1\n",
      "\n",
      "Sequence: M R L G K Q K N K P T D G T T I F E E M K L A R Q ...\n",
      "Actual: 0, Predicted: 0\n",
      "\n",
      "Sequence: M S V L S G K K I I L G V T G G I A A Y K S A S L ...\n",
      "Actual: 0, Predicted: 0\n",
      "\n",
      "Sequence: M K A I Y I K H L L D F K R P A G T S R G I L N Q ...\n",
      "Actual: 0, Predicted: 0\n",
      "\n",
      "Sequence: M L K K I L L L S L G T F A L C F A L Y F A L L Y ...\n",
      "Actual: 0, Predicted: 0\n",
      "\n",
      "Sequence: M E Q Q Q Q G E I A V A T E A G L K R R H V H K F ...\n",
      "Actual: 0, Predicted: 0\n",
      "\n",
      "Sequence: M S S F D V V V I G S G P G G Y V A A I R C A Q L ...\n",
      "Actual: 0, Predicted: 0\n",
      "\n",
      "Sequence: M Q L Q P G V F R L N P I L L S L G L F A L P G L ...\n",
      "Actual: 1, Predicted: 1\n",
      "\n",
      "Sequence: M L Q D I F L K N I L S I Q E N V Y K Y N P V K L ...\n",
      "Actual: 0, Predicted: 0\n",
      "\n",
      "Sequence: M K T Y L V G G A V R D K Y L Q L P T Q D R D W V ...\n",
      "Actual: 0, Predicted: 0\n",
      "\n",
      "Sequence: M S E T K I N L L D L D R D A M R A F F V E L G E ...\n",
      "Actual: 0, Predicted: 0\n",
      "\n",
      "Sequence: M N A N K F L P L L I L I N Y N W Y A Q E R T N L ...\n",
      "Actual: 0, Predicted: 0\n",
      "\n",
      "Sequence: M L Q D I F L K N I L S I Q E N V Y K Y N P V K L ...\n",
      "Actual: 0, Predicted: 0\n",
      "\n",
      "Sequence: M K D P A F L F Y S K D F Y E G T R M M L P E E R ...\n",
      "Actual: 0, Predicted: 0\n",
      "\n",
      "Sequence: M S E K Y V V T W D V L Q M H T R K L A A R L L P ...\n",
      "Actual: 0, Predicted: 0\n",
      "\n",
      "Sequence: M D Y F P I F C Q L R T K P C L L V G G G E V A E ...\n",
      "Actual: 0, Predicted: 0\n",
      "\n",
      "Sequence: M A N P L N T L R F P L Y G E R L I E A S A G T G ...\n",
      "Actual: 0, Predicted: 0\n",
      "\n",
      "Sequence: M N L K D L L Y K V A I E A V C G S T T V T V N Q ...\n",
      "Actual: 0, Predicted: 0\n",
      "\n",
      "Sequence: M Q H I Q G I S R N Q L H A S S L E D K I T S E N ...\n",
      "Actual: 0, Predicted: 0\n",
      "\n",
      "Sequence: M K K T I V A M L V S G A V L F P G L T Q A Q T L ...\n",
      "Actual: 1, Predicted: 1\n",
      "\n",
      "Sequence: M S E T K T N L L D L D R D A M R A F F V E L G E ...\n",
      "Actual: 0, Predicted: 0\n",
      "\n",
      "Sequence: M K P S I D V V K K L A E E L G T T V G Y L I G E ...\n",
      "Actual: 0, Predicted: 0\n",
      "\n",
      "Sequence: M R V L K F G G S S L A D A E R F L R V A D I A V ...\n",
      "Actual: 0, Predicted: 0\n",
      "\n",
      "Sequence: M L Q D I F L K N I L S I Q E N V Y K Y N P V K L ...\n",
      "Actual: 0, Predicted: 0\n",
      "\n",
      "Sequence: M L Q D I F L K N I L S I Q E N V Y K Y N P V K L ...\n",
      "Actual: 0, Predicted: 0\n",
      "\n",
      "Sequence: M R C R L R C P P N L P V R R L L L S R A L D A L ...\n",
      "Actual: 0, Predicted: 0\n",
      "\n",
      "Sequence: M P H R T K Q E G Y Q A R R V A V P E D L I K K E ...\n",
      "Actual: 0, Predicted: 0\n",
      "\n",
      "Sequence: M K N T L N L L L F V I I L I S C G S N R S I S Q ...\n",
      "Actual: 0, Predicted: 0\n",
      "\n",
      "Sequence: M L D W L K H L G K E Y P D F W K N Y L L Q L E S ...\n",
      "Actual: 0, Predicted: 0\n",
      "\n",
      "Sequence: M T E S L T P R M K K S I P T L I A T L V W S A L ...\n",
      "Actual: 1, Predicted: 1\n",
      "\n",
      "Sequence: M K R Q F K K I T I F S F Y P F L E N L K L F N S ...\n",
      "Actual: 0, Predicted: 0\n",
      "\n",
      "Sequence: M L V T I E D L T T E M Y T E V L S A I S R G D R ...\n",
      "Actual: 0, Predicted: 0\n",
      "\n",
      "Sequence: M K L S E F K Q H L S K L D S F D I S F V D G T F ...\n",
      "Actual: 0, Predicted: 0\n",
      "\n",
      "Sequence: M N L H E Y Q A K Q L F A R Y G L P A P V G Y A C ...\n",
      "Actual: 1, Predicted: 0\n",
      "\n",
      "Sequence: M S V L S G K K I I L G V T G G I A A Y K S A S L ...\n",
      "Actual: 0, Predicted: 0\n",
      "\n",
      "Sequence: M Y S F C R S Y N T Y D R S L Q R M I E R Y S R D ...\n",
      "Actual: 0, Predicted: 0\n",
      "\n",
      "Sequence: M K R M L I N A T Q E E E L R V A L V D G Q Q L Y ...\n",
      "Actual: 0, Predicted: 0\n",
      "\n",
      "Sequence: M I P F N Y N L I G Y T F F L I I I I F I I A V V ...\n",
      "Actual: 0, Predicted: 0\n",
      "\n",
      "Sequence: M P K K I I L I A A A G E K N E L G K N N S L L W ...\n",
      "Actual: 0, Predicted: 0\n",
      "\n",
      "Sequence: M N K I A C F F L I L F S L S C Q K F N T P E K P ...\n",
      "Actual: 0, Predicted: 0\n",
      "\n",
      "Sequence: M N T K T S T A P T L A E N I K H L K L T H W E K ...\n",
      "Actual: 0, Predicted: 0\n",
      "\n",
      "Sequence: M H R N K L T T L I L A A L A S H A Y A A E Q E V ...\n",
      "Actual: 1, Predicted: 1\n",
      "\n",
      "Sequence: M S Q Q F N V A V L G A S G A V G E A M I E I L E ...\n",
      "Actual: 0, Predicted: 0\n",
      "\n",
      "Sequence: M D Y L P M F A K L D G R P V L L V G G G E V A L ...\n",
      "Actual: 0, Predicted: 0\n",
      "\n",
      "Sequence: M P K K F Y V S W D N L Q R E A R R L A R R Q L P ...\n",
      "Actual: 0, Predicted: 0\n",
      "\n",
      "Sequence: M L G L C T G S A N A A E N G D S A D L Y F G A G ...\n",
      "Actual: 1, Predicted: 1\n",
      "\n",
      "Sequence: M E Q Q Q Q G E I A V A A E A G L K R R H V H K F ...\n",
      "Actual: 0, Predicted: 0\n",
      "\n",
      "Sequence: M K Y S T L W L S L L A V C S A Q A A E E P L A V ...\n",
      "Actual: 1, Predicted: 1\n",
      "\n",
      "Sequence: M R I N H L Q I E I D G I D K E I L R Y L M D D A ...\n",
      "Actual: 0, Predicted: 0\n",
      "\n",
      "Sequence: M S N T N I K K I G V L T S G G D S P G M N A A I ...\n",
      "Actual: 0, Predicted: 0\n",
      "\n",
      "Sequence: M F P R T I S N N R I S R I A S A N T P P E M S I ...\n",
      "Actual: 1, Predicted: 0\n",
      "\n"
     ]
    }
   ],
   "source": [
    "# Decode the tokenized validation sequences back to the original sequences\n",
    "decoded_sequences = tokenizer.batch_decode(encoded_dataset[\"test\"][\"input_ids\"], skip_special_tokens=True)\n",
    "\n",
    "print(\"\\nAll sequences from the validation set with actual and predicted labels:\")\n",
    "for i, sequence in enumerate(decoded_sequences):\n",
    "    actual = y_true[i]  # True label\n",
    "    predicted = y_pred[i]  # Predicted label\n",
    "    \n",
    "    print(f\"Sequence: {sequence[:50]}...\")  # Show the first 50 characters for brevity\n",
    "    print(f\"Actual: {actual}, Predicted: {predicted}\\n\")\n"
   ]
  },
  {
   "cell_type": "code",
   "execution_count": null,
   "id": "0bcb644f-46f1-4f19-9862-d531663df6f8",
   "metadata": {},
   "outputs": [],
   "source": [
    "\n",
    "\n",
    "\n",
    "\n",
    "\n",
    "\n",
    "\n",
    "\n",
    "\n",
    "\n",
    "\n",
    "\n",
    "\n",
    "\n",
    "\n",
    "\n",
    "\n",
    "\n",
    "\n",
    "\n",
    "\n",
    "\n",
    "\n",
    "\n",
    "\n",
    "\n",
    "\n"
   ]
  },
  {
   "cell_type": "code",
   "execution_count": null,
   "id": "39395bc8-fe94-4c8e-b880-0ca8b57478aa",
   "metadata": {},
   "outputs": [],
   "source": []
  }
 ],
 "metadata": {
  "kernelspec": {
   "display_name": "PyTorch 2.3.0",
   "language": "python",
   "name": "pytorch"
  },
  "language_info": {
   "codemirror_mode": {
    "name": "ipython",
    "version": 3
   },
   "file_extension": ".py",
   "mimetype": "text/x-python",
   "name": "python",
   "nbconvert_exporter": "python",
   "pygments_lexer": "ipython3",
   "version": "3.12.3"
  }
 },
 "nbformat": 4,
 "nbformat_minor": 5
}
